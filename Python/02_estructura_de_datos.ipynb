{
  "cells": [
    {
      "cell_type": "markdown",
      "id": "03f415c8",
      "metadata": {
        "id": "03f415c8"
      },
      "source": [
        "# 2: Ejercicios\n",
        "Ejercicios prácticos sobre estructuras de datos en Python."
      ]
    },
    {
      "cell_type": "markdown",
      "id": "1549ae63",
      "metadata": {
        "id": "1549ae63"
      },
      "source": [
        "### Ejercicio 1\n",
        "Crea una lista con tus tres comidas favoritas y luego:\n",
        "- Añade una más al final.\n",
        "- Elimina la primera.\n",
        "- Imprime el resultado final."
      ]
    },
    {
      "cell_type": "code",
      "execution_count": null,
      "id": "de59fc82",
      "metadata": {
        "id": "de59fc82"
      },
      "outputs": [],
      "source": [
        "comidas = [\"sushi\", \"pasta\", \"pizza\"]\n",
        "\n",
        "print(comidas)\n",
        "comidas.append(\"arroz\")\n",
        "comidas.remove(\"sushi\")\n",
        "print(comidas)"
      ]
    },
    {
      "cell_type": "markdown",
      "id": "623ec6df",
      "metadata": {
        "id": "623ec6df"
      },
      "source": [
        "### Ejercicio 2\n",
        "Usa slicing para mostrar solo los dos últimos elementos de la siguiente lista:\n",
        "```python\n",
        "colores = ['rojo', 'verde', 'azul', 'amarillo']\n",
        "```"
      ]
    },
    {
      "cell_type": "code",
      "execution_count": null,
      "id": "de18aed0",
      "metadata": {
        "id": "de18aed0"
      },
      "outputs": [],
      "source": [
        "colores = ['rojo', 'verde', 'azul', 'amarillo']\n",
        "\n",
        "print(colores[-2:])"
      ]
    },
    {
      "cell_type": "markdown",
      "id": "6fccda20",
      "metadata": {
        "id": "6fccda20"
      },
      "source": [
        "### Ejercicio 3\n",
        "Crea un diccionario que contenga información sobre una película (título, año, director).\n",
        "Luego imprime los valores con una frase."
      ]
    },
    {
      "cell_type": "code",
      "execution_count": null,
      "id": "7f6b8a2b",
      "metadata": {
        "id": "7f6b8a2b"
      },
      "outputs": [],
      "source": [
        "peliculas = [\n",
        "    {\"titulo\": \"Scott Pilgrim vs. the World\", \"año\": \"2010\", \"director\": \"Edgar Wright\"},\n",
        "    {\"titulo\": \"Everything Everywhere All At Once\", \"año\": \"2022\", \"director\": \"Daniel Scheinert y Daniel Kwan\"}\n",
        "]\n",
        "\n",
        "print(f\"La película '{peliculas[0]['titulo']}' fue dirigida por {peliculas[0]['director']} en el año {peliculas[0]['año']}\")\n",
        "print(f\"La película '{peliculas[1]['titulo']}' fue dirigida por {peliculas[1]['director']} en el año {peliculas[1]['año']}\")"
      ]
    },
    {
      "cell_type": "markdown",
      "id": "9c2547cb",
      "metadata": {
        "id": "9c2547cb"
      },
      "source": [
        "### Ejercicio 4\n",
        "Crea una lista con algunos números repetidos y elimina los duplicados duplicados."
      ]
    },
    {
      "cell_type": "code",
      "execution_count": null,
      "id": "e20aa134",
      "metadata": {
        "id": "e20aa134"
      },
      "outputs": [],
      "source": [
        "numeros = [0, 1, 1 ,2, 3, 4, 4, 5, 6, 6, 6, 7, 8, 9, 9, 9, 9, 10]\n",
        "unicos = set(numeros)\n",
        "\n",
        "print(unicos)"
      ]
    },
    {
      "cell_type": "markdown",
      "source": [
        "## Ejercico 5\n",
        "Crea un programa que primero pida un nombre y que despues lance un saludo personalizado aleatorio."
      ],
      "metadata": {
        "id": "bIDFqKxh9ohM"
      },
      "id": "bIDFqKxh9ohM"
    },
    {
      "cell_type": "code",
      "source": [
        "nombre = input('Ingrese su nombre: ')\n",
        "saludos = [\n",
        "    f'Hola {nombre} ¿qué tal estas?',\n",
        "    f'Bienvenido {nombre}',\n",
        "    f'¿Cómo estas? {nombre}',\n",
        "    f'Hola {nombre} Listo para hoy?',\n",
        "]\n",
        "\n",
        "while True:\n",
        "    numero = input('Ingrese un numero del 1 al 4: ')\n",
        "    if numero.isnumeric():\n",
        "        indice = int(numero) -1\n",
        "        if 0 <= indice < len(saludos):\n",
        "            print(saludos[indice])\n",
        "            break\n",
        "        else:\n",
        "            print(f'El numero {numero} no esta en el rango, por favor intente de nuevo')"
      ],
      "metadata": {
        "id": "nV3qWKNx9pTN"
      },
      "id": "nV3qWKNx9pTN",
      "execution_count": null,
      "outputs": []
    }
  ],
  "metadata": {
    "colab": {
      "provenance": []
    },
    "language_info": {
      "name": "python"
    },
    "kernelspec": {
      "name": "python3",
      "display_name": "Python 3"
    }
  },
  "nbformat": 4,
  "nbformat_minor": 5
}