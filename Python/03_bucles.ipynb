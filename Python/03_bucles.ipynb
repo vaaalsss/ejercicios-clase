{
  "cells": [
    {
      "cell_type": "markdown",
      "id": "fea7964f",
      "metadata": {
        "id": "fea7964f"
      },
      "source": [
        "# 3: Ejercicios\n",
        "Ejercicios prácticos sobre condicionales y bucles en Python."
      ]
    },
    {
      "cell_type": "markdown",
      "id": "defd20b6",
      "metadata": {
        "id": "defd20b6"
      },
      "source": [
        "### Ejercicio 1\n",
        "Pide al usuario un número y muestra si es positivo, negativo o cero."
      ]
    },
    {
      "cell_type": "code",
      "execution_count": null,
      "id": "fc3c23d2",
      "metadata": {
        "id": "fc3c23d2"
      },
      "outputs": [],
      "source": [
        "numero = float(input('Ingrese un numero: '))\n",
        "\n",
        "if numero > 0:\n",
        "    print(f'Su número ({numero}) es positivo')\n",
        "elif numero ==0:\n",
        "    print(f'Su número ({numero}) es cero')\n",
        "else:\n",
        "    print(f'Su número ({numero}) es negativo')"
      ]
    },
    {
      "cell_type": "markdown",
      "id": "260c68b2",
      "metadata": {
        "id": "260c68b2"
      },
      "source": [
        "### Ejercicio 2\n",
        "Imprime los números del 1 al 10 usando un bucle `for`."
      ]
    },
    {
      "cell_type": "code",
      "execution_count": null,
      "id": "da2e48e0",
      "metadata": {
        "id": "da2e48e0",
        "colab": {
          "base_uri": "https://localhost:8080/"
        },
        "outputId": "a53427d7-05d8-41ea-92af-f54f583ff00c"
      },
      "outputs": [
        {
          "output_type": "stream",
          "name": "stdout",
          "text": [
            "1\n",
            "2\n",
            "3\n",
            "4\n",
            "5\n",
            "6\n",
            "7\n",
            "8\n",
            "9\n",
            "10\n"
          ]
        }
      ],
      "source": [
        "for numero in range(1,11):\n",
        "    print(numero)"
      ]
    },
    {
      "cell_type": "markdown",
      "id": "e9ec742d",
      "metadata": {
        "id": "e9ec742d"
      },
      "source": [
        "### Ejercicio 3\n",
        "Suma todos los números impares del 1 al 20 usando `while`."
      ]
    },
    {
      "cell_type": "code",
      "execution_count": null,
      "id": "7d31f029",
      "metadata": {
        "id": "7d31f029",
        "colab": {
          "base_uri": "https://localhost:8080/"
        },
        "outputId": "fa63a3c4-f175-4958-9b20-195e2d13a8fa"
      },
      "outputs": [
        {
          "output_type": "stream",
          "name": "stdout",
          "text": [
            "100\n"
          ]
        }
      ],
      "source": [
        "numero = 1\n",
        "suma = 0\n",
        "\n",
        "while numero <= 20:\n",
        "    if numero % 2 != 0:\n",
        "        suma += numero\n",
        "    numero += 1\n",
        "print(suma)"
      ]
    },
    {
      "metadata": {
        "id": "c27602b550230952"
      },
      "cell_type": "markdown",
      "source": [
        "#### Ejercicio 4\n",
        "Crea un programa que imprima la tabla de multiplicar del 5 usando un bucle `for`.\n",
        "- Mejora el programa para que imprima la tabla de multiplicar de cualquier número introducido por el usuario."
      ],
      "id": "c27602b550230952"
    },
    {
      "metadata": {
        "id": "ffcaeaaaf8333f00",
        "colab": {
          "base_uri": "https://localhost:8080/"
        },
        "outputId": "4bcbdc34-71ad-4e6c-d882-ee8be2165886"
      },
      "cell_type": "code",
      "outputs": [
        {
          "output_type": "stream",
          "name": "stdout",
          "text": [
            "5x1 = 5\n",
            "5x2 = 10\n",
            "5x3 = 15\n",
            "5x4 = 20\n",
            "5x5 = 25\n",
            "5x6 = 30\n",
            "5x7 = 35\n",
            "5x8 = 40\n",
            "5x9 = 45\n",
            "5x10 = 50\n",
            "------------\n",
            "Ingrese un numero: 3\n",
            "3 x 1 = 3\n",
            "3 x 2 = 6\n",
            "3 x 3 = 9\n",
            "3 x 4 = 12\n",
            "3 x 5 = 15\n",
            "3 x 6 = 18\n",
            "3 x 7 = 21\n",
            "3 x 8 = 24\n",
            "3 x 9 = 27\n",
            "3 x 10 = 30\n"
          ]
        }
      ],
      "execution_count": null,
      "source": [
        "for i in range(1,11):\n",
        "   print(f'5x{i} = {5*i}')\n",
        "\n",
        "print('------------')\n",
        "numero = int(input('Ingrese un numero: '))\n",
        "for i in range(1,11):\n",
        "  print(f'{numero} x {i} = {numero * i}')\n"
      ],
      "id": "ffcaeaaaf8333f00"
    },
    {
      "cell_type": "markdown",
      "id": "7c6aa9a2",
      "metadata": {
        "id": "7c6aa9a2"
      },
      "source": [
        "### Ejercicio 5\n",
        "Crea un programa que imprima un menú con tres opciones:\n",
        "1. Saludo\n",
        "2. Despedida\n",
        "3. Salir\n",
        "\n",
        "Repite hasta que el usuario elija salir."
      ]
    },
    {
      "cell_type": "code",
      "execution_count": null,
      "id": "752f4c44",
      "metadata": {
        "id": "752f4c44",
        "colab": {
          "base_uri": "https://localhost:8080/"
        },
        "outputId": "c6f3a0ac-772f-4f53-9e80-825a1519a216"
      },
      "outputs": [
        {
          "output_type": "stream",
          "name": "stdout",
          "text": [
            "Ingrese su nombre: Javi\n",
            "Menu\n",
            "1. Saludo\n",
            "2. Despedida\n",
            "3. Salir\n",
            "Elige una opcion: 1\n",
            "Hola Javi\n",
            "Menu\n",
            "1. Saludo\n",
            "2. Despedida\n",
            "3. Salir\n",
            "Elige una opcion: 2\n",
            "Adios Javi\n",
            "Menu\n",
            "1. Saludo\n",
            "2. Despedida\n",
            "3. Salir\n",
            "Elige una opcion: 3\n",
            "Saliendo del programa\n"
          ]
        }
      ],
      "source": [
        "opcion = {\"1. saludo\"\n",
        "          \"2. despedida\"\n",
        "          \"3. salir\"}\n",
        "nombre = input(\"Ingrese su nombre: \")\n",
        "\n",
        "while opcion != '3':\n",
        "    print('Menu')\n",
        "    print('1. Saludo')\n",
        "    print('2. Despedida')\n",
        "    print('3. Salir')\n",
        "\n",
        "    opcion = input('Elige una opcion: ')\n",
        "\n",
        "    if opcion == '1':\n",
        "        print(f'Hola {nombre}')\n",
        "    elif opcion == '2':\n",
        "        print(f'Adios {nombre}')\n",
        "    elif opcion == '3':\n",
        "        print(f'Saliendo del programa')\n",
        "    else:\n",
        "        print('Opcion invalida, por favor intente otra vez')"
      ]
    },
    {
      "metadata": {
        "id": "557f044d88915c29"
      },
      "cell_type": "markdown",
      "source": [
        "### Ejercicio 6\n",
        "Imprime la siguiente estructura de 3x3 usando bucles anidados:\n",
        "   ```\n",
        "   1 2 3\n",
        "   4 5 6\n",
        "   7 8 9\n",
        "   ```\n",
        "   (usa una variable que incremente desde 1 hasta 9 y bucles `for` anidados)"
      ],
      "id": "557f044d88915c29"
    },
    {
      "metadata": {
        "id": "46f1055eb7138066",
        "colab": {
          "base_uri": "https://localhost:8080/"
        },
        "outputId": "3d558833-c821-486f-c58b-935f99929467"
      },
      "cell_type": "code",
      "outputs": [
        {
          "output_type": "stream",
          "name": "stdout",
          "text": [
            "123\n",
            "456\n",
            "789\n"
          ]
        }
      ],
      "execution_count": null,
      "source": [
        "numero = 1\n",
        "for fila in range(3):\n",
        "    for columna in range (3):\n",
        "        print(numero, end = '')\n",
        "        numero += 1\n",
        "    print()"
      ],
      "id": "46f1055eb7138066"
    }
  ],
  "metadata": {
    "colab": {
      "provenance": []
    },
    "language_info": {
      "name": "python"
    },
    "kernelspec": {
      "name": "python3",
      "display_name": "Python 3"
    }
  },
  "nbformat": 4,
  "nbformat_minor": 5
}