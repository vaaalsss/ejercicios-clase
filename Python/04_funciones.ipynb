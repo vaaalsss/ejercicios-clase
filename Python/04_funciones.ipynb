{
  "cells": [
    {
      "cell_type": "markdown",
      "id": "b9e5a71c",
      "metadata": {
        "id": "b9e5a71c"
      },
      "source": [
        "# 4: Ejercicios\n",
        "Ejercicios prácticos para practicar funciones en Python."
      ]
    },
    {
      "cell_type": "markdown",
      "id": "f5b629e9",
      "metadata": {
        "id": "f5b629e9"
      },
      "source": [
        "### Ejercicio 1\n",
        "Crea una función que reciba una edad y diga si es mayor o menor de edad."
      ]
    },
    {
      "cell_type": "code",
      "execution_count": null,
      "id": "f245676a",
      "metadata": {
        "id": "f245676a"
      },
      "outputs": [],
      "source": [
        "numero = int(input(\"Ingrese edad: \"))\n",
        "\n",
        "def edad (numero):\n",
        "    if numero >= 18:\n",
        "        print(f\"Usted es mayor de edad\")\n",
        "    else:\n",
        "        print(f\"Usted es menor de edad\")\n",
        "\n",
        "edad(numero)"
      ]
    },
    {
      "cell_type": "markdown",
      "id": "a6c21b59",
      "metadata": {
        "id": "a6c21b59"
      },
      "source": [
        "### Ejercicio 2\n",
        "Crea una función que calcule el área de un triángulo (base * altura / 2)."
      ]
    },
    {
      "cell_type": "code",
      "execution_count": null,
      "id": "5973d574",
      "metadata": {
        "id": "5973d574"
      },
      "outputs": [],
      "source": [
        "base = float(input(\"Ingresa la base de su triangulo: \"))\n",
        "altura = float(input(\"Ingresa la altura de su triangulo: \"))\n",
        "\n",
        "def datos (base, altura):\n",
        "    formula = base * altura / 2\n",
        "    print(formula)\n",
        "\n",
        "datos(base, altura)"
      ]
    },
    {
      "cell_type": "markdown",
      "id": "4ce38e0e",
      "metadata": {
        "id": "4ce38e0e"
      },
      "source": [
        "### Ejercicio 3\n",
        "Crea una función que reciba un número y devuelva `True` si es par, `False` si es impar."
      ]
    },
    {
      "cell_type": "code",
      "execution_count": 3,
      "id": "020f202e",
      "metadata": {
        "id": "020f202e",
        "colab": {
          "base_uri": "https://localhost:8080/"
        },
        "outputId": "c12479e7-4ffe-4d75-b2f1-acb809d38882"
      },
      "outputs": [
        {
          "output_type": "stream",
          "name": "stdout",
          "text": [
            "Ingrese un numero: 5\n",
            "False\n"
          ]
        }
      ],
      "source": [
        "numero = int(input(\"Ingrese un numero: \"))\n",
        "\n",
        "def resultado(numero):\n",
        "    return numero % 2 == 0\n",
        "\n",
        "print(resultado(numero))"
      ]
    },
    {
      "cell_type": "markdown",
      "id": "7066793d",
      "metadata": {
        "id": "7066793d"
      },
      "source": [
        "### Ejercicio 4\n",
        "Escribe una función que reciba una cadena y devuelva cuántas vocales tiene."
      ]
    },
    {
      "cell_type": "code",
      "execution_count": null,
      "id": "407cb015",
      "metadata": {
        "id": "407cb015",
        "outputId": "1cea3e54-c560-4564-b24c-988d74a3c28a",
        "colab": {
          "base_uri": "https://localhost:8080/"
        }
      },
      "outputs": [
        {
          "output_type": "stream",
          "name": "stdout",
          "text": [
            "Escriba su texto: aaaatrf\n",
            "4\n"
          ]
        }
      ],
      "source": [
        "texto = input(\"Escriba su texto: \")\n",
        "vocales = [\"a\", \"e\", \"i\", \"o\", \"u\"]\n",
        "contador = 0\n",
        "\n",
        "for x in texto:\n",
        "    if x in vocales:\n",
        "        contador += 1\n",
        "\n",
        "print(contador)"
      ]
    },
    {
      "metadata": {
        "id": "aa500f74886bde33"
      },
      "cell_type": "markdown",
      "source": [
        "### Ejercicio 5\n",
        "Haz una función `calculadora(a, b, operacion)` que permita sumar, restar, multiplicar o dividir según el string que reciba."
      ],
      "id": "aa500f74886bde33"
    },
    {
      "metadata": {
        "id": "46b8da14ef881279"
      },
      "cell_type": "code",
      "outputs": [],
      "execution_count": null,
      "source": [
        "operacion = input ('¿Qué operación desea hacer hoy?: ')\n",
        "a = float(input ('Ingrese el primer valor: '))\n",
        "b= float(input ('Ingrese el segundo valor: '))\n",
        "\n",
        "def calculadora (a, b, operacion):\n",
        "    if operacion == 'suma':\n",
        "      return a + b\n",
        "    elif operacion == 'resta':\n",
        "      return a - b\n",
        "    elif operacion == 'multiplicacion':\n",
        "       return a * b\n",
        "    elif operacion == 'division':\n",
        "        if b == 0:\n",
        "           return 'Error: no se puede dividir entre cero (0)'\n",
        "        else:\n",
        "         return a/b\n",
        "    else:\n",
        "     return 'Operación no reconocida'\n",
        "\n",
        "calculadora(a, b, operacion)\n",
        "\n",
        "resultado = calculadora(a, b, operacion)\n",
        "print(f'{resultado}')"
      ],
      "id": "46b8da14ef881279"
    }
  ],
  "metadata": {
    "language_info": {
      "name": "python"
    },
    "colab": {
      "provenance": []
    },
    "kernelspec": {
      "name": "python3",
      "display_name": "Python 3"
    }
  },
  "nbformat": 4,
  "nbformat_minor": 5
}