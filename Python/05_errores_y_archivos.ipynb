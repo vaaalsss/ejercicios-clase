{
  "cells": [
    {
      "cell_type": "markdown",
      "id": "6fd2cc9d",
      "metadata": {
        "id": "6fd2cc9d"
      },
      "source": [
        "# 5: Ejercicios\n",
        "Ejercicios sobre lectura/escritura de archivos y manejo de errores."
      ]
    },
    {
      "cell_type": "markdown",
      "id": "be4e5c38",
      "metadata": {
        "id": "be4e5c38"
      },
      "source": [
        "### Ejercicio 1\n",
        "Crea un archivo llamado `miarchivo.txt` y escribe en él dos líneas de texto."
      ]
    },
    {
      "cell_type": "code",
      "execution_count": null,
      "id": "37292318",
      "metadata": {
        "id": "37292318"
      },
      "outputs": [],
      "source": [
        "archivo = open(\"miarchivo.txt\", \"w\")\n",
        "\n",
        "with open (\"miarchivo.txt\", \"w\"):\n",
        "    archivo.write(\"Esta es la primera linea \\n\")\n",
        "    archivo.write(\"Esta es la segunda linea\\n\")"
      ]
    },
    {
      "cell_type": "markdown",
      "id": "21284b74",
      "metadata": {
        "id": "21284b74"
      },
      "source": [
        "### Ejercicio 2\n",
        "Lee el contenido de `miarchivo.txt` e imprímelo línea por línea."
      ]
    },
    {
      "cell_type": "code",
      "execution_count": null,
      "id": "89467dfd",
      "metadata": {
        "id": "89467dfd"
      },
      "outputs": [],
      "source": [
        "archivo = open(\"miarchivo.txt\", \"r\")\n",
        "\n",
        "with open (\"miarchivo.txt\", \"r\") as archivo:\n",
        "    for linea in archivo:\n",
        "        print(linea.strip())"
      ]
    },
    {
      "cell_type": "markdown",
      "id": "7c84239e",
      "metadata": {
        "id": "7c84239e"
      },
      "source": [
        "### Ejercicio 3\n",
        "Pide al usuario un número e imprime el doble. Captura el error si el número no es válido. Por ejemplo, si el usuario introduce un texto en lugar de un número."
      ]
    },
    {
      "cell_type": "code",
      "execution_count": null,
      "id": "12bd2504",
      "metadata": {
        "id": "12bd2504"
      },
      "outputs": [],
      "source": [
        "try:\n",
        "    numero = float(input(\"Ingrese su numero: \"))\n",
        "    print(f\"El doble de su numero es {numero * 2}\")\n",
        "except ValueError:\n",
        "    print(\"Su numero no es valido\")"
      ]
    },
    {
      "cell_type": "markdown",
      "id": "3492d514",
      "metadata": {
        "id": "3492d514"
      },
      "source": [
        "### Ejercicio 4\n",
        "Intenta abrir un archivo que no existe y maneja el error con un mensaje personalizado."
      ]
    },
    {
      "cell_type": "code",
      "execution_count": null,
      "id": "a9ae93b9",
      "metadata": {
        "id": "a9ae93b9"
      },
      "outputs": [],
      "source": [
        "try:\n",
        "    with open(\"archivo_no_existente.txt\", \"r\") as f:\n",
        "        datos = f.read()\n",
        "\n",
        "except FileNotFoundError:\n",
        "    print(\"Error: el archivo que esta buscando no existe\")"
      ]
    },
    {
      "cell_type": "markdown",
      "id": "c80583e5",
      "metadata": {
        "id": "c80583e5"
      },
      "source": [
        "### Ejercicio 5\n",
        "Crea un programa que pida el nombre y edad del usuario y los guarde en un archivo CSV llamado `usuarios.csv`."
      ]
    },
    {
      "cell_type": "code",
      "execution_count": null,
      "id": "c5a48343",
      "metadata": {
        "id": "c5a48343"
      },
      "outputs": [],
      "source": [
        "nombre = input(\"Ingrese un nombre: \")\n",
        "edad = int(input(\"Ingrese la edad: \"))\n",
        "\n",
        "with open (\"usuaeio.csv\", \"a\") as archivo:\n",
        "    archivo.write(f\"{nombre}, {edad}\")\n",
        "\n",
        "    print(\"___archivo___\")"
      ]
    }
  ],
  "metadata": {
    "colab": {
      "provenance": []
    },
    "language_info": {
      "name": "python"
    },
    "kernelspec": {
      "name": "python3",
      "display_name": "Python 3"
    }
  },
  "nbformat": 4,
  "nbformat_minor": 5
}