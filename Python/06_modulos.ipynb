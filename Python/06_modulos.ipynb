{
  "cells": [
    {
      "metadata": {
        "id": "fe613fe82509cd81"
      },
      "cell_type": "markdown",
      "source": [
        "# 6: Ejercicios\n",
        "Ejercicios prácticos de módulos y librerías en Python."
      ],
      "id": "fe613fe82509cd81"
    },
    {
      "metadata": {
        "id": "ec3ebaf295a22c0a"
      },
      "cell_type": "markdown",
      "source": [
        "### Ejercicio 1\n",
        "Usa `math` para calcular la raíz cúbica de un número."
      ],
      "id": "ec3ebaf295a22c0a"
    },
    {
      "metadata": {
        "ExecuteTime": {
          "end_time": "2025-07-06T13:12:57.963529Z",
          "start_time": "2025-07-06T13:12:57.961345Z"
        },
        "id": "5ef74205ccba35fb"
      },
      "cell_type": "code",
      "source": [
        "import math\n",
        "numero = float(input(\"Ingrese su numero: \"))\n",
        "raiz =  math.sqrt(numero)\n",
        "\n",
        "print(f\"La raíz cuadrada de {numero} es {raiz}\")"
      ],
      "id": "5ef74205ccba35fb",
      "outputs": [],
      "execution_count": null
    },
    {
      "metadata": {
        "id": "790537fe2c7dcf2"
      },
      "cell_type": "markdown",
      "source": [
        "#### Ejercicio 2\n",
        "Usa `random` para generar una lista con 5 números aleatorios entre 10 y 50."
      ],
      "id": "790537fe2c7dcf2"
    },
    {
      "metadata": {
        "ExecuteTime": {
          "end_time": "2025-07-06T13:12:57.977332Z",
          "start_time": "2025-07-06T13:12:57.975090Z"
        },
        "id": "921565b7126191c6"
      },
      "cell_type": "code",
      "source": [
        "import random\n",
        "\n",
        "print(random.randint (10, 50))"
      ],
      "id": "921565b7126191c6",
      "outputs": [],
      "execution_count": null
    },
    {
      "metadata": {
        "id": "6352e1fe1c8cf15e"
      },
      "cell_type": "markdown",
      "source": [
        "#### Ejercicio 3\n",
        "Usa `datetime` para imprimir la fecha actual en formato `DD-MM-YYYY`."
      ],
      "id": "6352e1fe1c8cf15e"
    },
    {
      "metadata": {
        "ExecuteTime": {
          "end_time": "2025-07-06T13:12:57.988667Z",
          "start_time": "2025-07-06T13:12:57.987074Z"
        },
        "id": "ba0ca99aea6efd3f"
      },
      "cell_type": "code",
      "source": [
        "import datetime\n",
        "\n",
        "print(datetime.datetime.now ())"
      ],
      "id": "ba0ca99aea6efd3f",
      "outputs": [],
      "execution_count": null
    },
    {
      "metadata": {
        "id": "aea2bdb90e81878d"
      },
      "cell_type": "markdown",
      "source": [
        "#### Ejercicio 4\n",
        "Usa `os` para listar los archivos del directorio actual."
      ],
      "id": "aea2bdb90e81878d"
    },
    {
      "metadata": {
        "ExecuteTime": {
          "end_time": "2025-07-06T13:12:57.997216Z",
          "start_time": "2025-07-06T13:12:57.995826Z"
        },
        "id": "1bc9563d96932d5f"
      },
      "cell_type": "code",
      "source": [
        "import os\n",
        "print (os.getcwd())"
      ],
      "id": "1bc9563d96932d5f",
      "outputs": [],
      "execution_count": null
    },
    {
      "metadata": {
        "id": "b45db20e3cee8b3"
      },
      "cell_type": "markdown",
      "source": [
        "#### Ejercicio 5\n",
        "Crea una expresión regular con `re` que detecte correos electrónicos simples."
      ],
      "id": "b45db20e3cee8b3"
    },
    {
      "metadata": {
        "ExecuteTime": {
          "end_time": "2025-07-06T13:12:58.004926Z",
          "start_time": "2025-07-06T13:12:58.003514Z"
        },
        "id": "58f08c2c8a30679e"
      },
      "cell_type": "code",
      "source": [
        "import re\n",
        "patron = r\"[a-zA-Z0-9-.%_/-]+@[a-zA-Z0-9./-_]{2,}\"\n",
        "texto = \"Mis correos son valerymasi@gmail.com y valery.masi00@alumnos.cei\"\n",
        "\n",
        "resultado = re.findall(patron,texto)\n",
        "\n",
        "print (resultado)"
      ],
      "id": "58f08c2c8a30679e",
      "outputs": [],
      "execution_count": null
    }
  ],
  "metadata": {
    "kernelspec": {
      "display_name": "Python 3",
      "language": "python",
      "name": "python3"
    },
    "language_info": {
      "codemirror_mode": {
        "name": "ipython",
        "version": 2
      },
      "file_extension": ".py",
      "mimetype": "text/x-python",
      "name": "python",
      "nbconvert_exporter": "python",
      "pygments_lexer": "ipython2",
      "version": "2.7.6"
    },
    "colab": {
      "provenance": []
    }
  },
  "nbformat": 4,
  "nbformat_minor": 5
}