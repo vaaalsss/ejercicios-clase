{
  "cells": [
    {
      "cell_type": "markdown",
      "id": "d65bf594",
      "metadata": {
        "id": "d65bf594"
      },
      "source": [
        "# 7: Ejercicios\n",
        "Ejercicios prácticos de programación funcional en Python."
      ]
    },
    {
      "cell_type": "markdown",
      "id": "ba1f045b",
      "metadata": {
        "id": "ba1f045b"
      },
      "source": [
        "### Ejercicio 1\n",
        "Usa una función `lambda` para calcular el cubo de un número."
      ]
    },
    {
      "cell_type": "code",
      "execution_count": null,
      "id": "54216265",
      "metadata": {
        "id": "54216265"
      },
      "outputs": [],
      "source": [
        "numero = int(input(\"Ingrese un numero: \"))\n",
        "cubo = (lambda x:x  ** 3) (numero)\n",
        "\n",
        "print(f\"El cubo de {numero} es {cubo}\")"
      ]
    },
    {
      "cell_type": "markdown",
      "id": "08d8cf68",
      "metadata": {
        "id": "08d8cf68"
      },
      "source": [
        "### Ejercicio 2\n",
        "Usa `map()` para convertir una lista de grados Celsius a Fahrenheit. La fórmula es: `F = C * 9/5 + 32`."
      ]
    },
    {
      "cell_type": "code",
      "execution_count": null,
      "id": "7bcefab2",
      "metadata": {
        "id": "7bcefab2"
      },
      "outputs": [],
      "source": [
        "celcius = [0, 15, 30, 45, 60, 75, 90, 100]\n",
        "\n",
        "fahrenheit = list(map(lambda c:c * 9/5 + 32, celcius))\n",
        "\n",
        "print(\"Celcius: \", celcius)\n",
        "print(\"Fahrenheit: \", fahrenheit)"
      ]
    },
    {
      "cell_type": "markdown",
      "id": "9939c9b0",
      "metadata": {
        "id": "9939c9b0"
      },
      "source": [
        "### Ejercicio 3\n",
        "Filtra los nombres que empiezan por la letra 'A' en una lista usando `filter()`."
      ]
    },
    {
      "cell_type": "code",
      "execution_count": null,
      "id": "9584a72f",
      "metadata": {
        "id": "9584a72f",
        "colab": {
          "base_uri": "https://localhost:8080/"
        },
        "outputId": "d5c076a1-5836-4a7a-bc81-c8922d1ec9c4"
      },
      "outputs": [
        {
          "output_type": "stream",
          "name": "stdout",
          "text": [
            "['Ana', 'Andrea', 'Andres']\n"
          ]
        }
      ],
      "source": [
        "nombres = [\"Ana\", \"Andrea\", \"Daniel\", \"Juan\", \"Jose\", \"Valentina\", \"Andres\", \"Daniela\", \"Victor\"]\n",
        "\n",
        "def empieza_por_A (nombres):\n",
        "    return nombres.startswith ('A')\n",
        "\n",
        "nombres_con_a =list(filter(empieza_por_A, nombres))\n",
        "\n",
        "print(nombres_con_a)"
      ]
    },
    {
      "cell_type": "markdown",
      "id": "dbe4b290",
      "metadata": {
        "id": "dbe4b290"
      },
      "source": [
        "### Ejercicio 4\n",
        "Usa `reduce()` para calcular el producto de todos los números en una lista."
      ]
    },
    {
      "cell_type": "code",
      "id": "6c33985b",
      "metadata": {
        "ExecuteTime": {
          "end_time": "2025-07-06T11:32:55.504910Z",
          "start_time": "2025-07-06T11:32:55.501732Z"
        },
        "id": "6c33985b",
        "outputId": "f4f7aad1-da0c-42c2-a3b2-7bd14a8ac79c"
      },
      "source": [
        "from functools import reduce\n",
        "\n",
        "numeros = [1, 2, 3, 4, 5]\n",
        "producto = reduce(lambda x, y: x*y, numeros)\n",
        "print(\"producto: \", producto)"
      ],
      "outputs": [
        {
          "name": "stdout",
          "output_type": "stream",
          "text": [
            "Producto total: 120\n"
          ]
        }
      ],
      "execution_count": null
    },
    {
      "metadata": {
        "id": "2b1e3c37e83a9d69"
      },
      "cell_type": "markdown",
      "source": [
        "#### Ejercicio 5\n",
        "Usa `lambda` para ordenar una lista de tuplas por el segundo elemento."
      ],
      "id": "2b1e3c37e83a9d69"
    },
    {
      "metadata": {
        "id": "42fd39b058e10d6d"
      },
      "cell_type": "code",
      "outputs": [],
      "execution_count": null,
      "source": [
        "tuplas = [(1, 3), (2, 2), (4, 1), (5, 5)]\n",
        "\n",
        "ordenadas = sorted(tuplas, key=lambda x:x [1])\n",
        "\n",
        "print(ordenadas)"
      ],
      "id": "42fd39b058e10d6d"
    },
    {
      "cell_type": "markdown",
      "id": "394a0134",
      "metadata": {
        "id": "394a0134"
      },
      "source": [
        "### Ejercicio 6\n",
        "Crea una función que reciba una función y una lista de números, y devuelva una nueva lista con el resultado de aplicar la función a cada número. Por ejemplo, eleva al cuadrado cada número de la lista."
      ]
    },
    {
      "cell_type": "code",
      "execution_count": null,
      "id": "d4d0b8d8",
      "metadata": {
        "id": "d4d0b8d8"
      },
      "outputs": [],
      "source": [
        "def aplicar_funcion(funcion, lista):\n",
        "    return list(map(funcion, lista))\n",
        "\n",
        "numeros = [1, 2, 3, 4]\n",
        "cuadrados = aplicar_funcion(lambda x:x ** 2, numeros)\n",
        "\n",
        "print(\"Cuadrados: \", cuadrados)"
      ]
    }
  ],
  "metadata": {
    "colab": {
      "provenance": []
    },
    "language_info": {
      "name": "python"
    },
    "kernelspec": {
      "name": "python3",
      "display_name": "Python 3"
    }
  },
  "nbformat": 4,
  "nbformat_minor": 5
}